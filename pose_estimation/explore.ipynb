{
 "cells": [
  {
   "cell_type": "code",
   "execution_count": 45,
   "id": "2c2098ae",
   "metadata": {},
   "outputs": [
    {
     "name": "stdout",
     "output_type": "stream",
     "text": [
      "ISS keypoints: 196\n"
     ]
    }
   ],
   "source": [
    "import open3d as o3d\n",
    "import numpy as np\n",
    "\n",
    "# --- Load & normalize (mm -> m, center at origin) ---\n",
    "mesh = o3d.io.read_triangle_mesh(\"Bolt/hex_bolt_30.stl\")\n",
    "mesh.compute_vertex_normals()\n",
    "mesh.scale(0.001, center=mesh.get_center())     # mm -> m (adjust if already meters)\n",
    "mesh.translate(-mesh.get_center())              # origin at centroid\n",
    "\n",
    "# --- Dense surface sampling ---\n",
    "pcd = mesh.sample_points_poisson_disk(20000)    # increase if you want more detail\n",
    "pcd.estimate_normals(search_param=o3d.geometry.KDTreeSearchParamKNN(knn=30))\n",
    "\n",
    "# --- Model resolution (avg NN distance) ---\n",
    "dists = pcd.compute_nearest_neighbor_distance()\n",
    "res = float(np.mean(dists))\n",
    "\n",
    "# --- ISS keypoints (radii set relative to resolution) ---\n",
    "iss = o3d.geometry.keypoint.compute_iss_keypoints(\n",
    "    pcd,\n",
    "    salient_radius=6 * res,     # try 6–8 * res\n",
    "    non_max_radius=4 * res,     # try 4–6 * res\n",
    "    gamma_21=0.975,\n",
    "    gamma_32=0.975,\n",
    "    min_neighbors=10\n",
    ")\n",
    "\n",
    "# Optional: thin out duplicates if very dense\n",
    "iss = iss.voxel_down_sample(voxel_size=2 * res)\n",
    "\n",
    "print(f\"ISS keypoints: {np.asarray(iss.points).shape[0]}\")\n",
    "\n",
    "# Visualize (gray = cloud, red = keypoints)\n",
    "pcd.paint_uniform_color([0.7, 0.7, 0.7])\n",
    "iss.paint_uniform_color([1.0, 0.0, 0.0])\n",
    "o3d.visualization.draw_geometries([pcd, iss])\n"
   ]
  },
  {
   "cell_type": "code",
   "execution_count": null,
   "id": "52fef4ff",
   "metadata": {},
   "outputs": [
    {
     "name": "stdout",
     "output_type": "stream",
     "text": [
      "Detected corner vertices: 32\n"
     ]
    }
   ],
   "source": [
    "import numpy as np\n",
    "import open3d as o3d\n",
    "from collections import defaultdict\n",
    "\n",
    "mesh = o3d.io.read_triangle_mesh(\"Bolt/hex_bolt_30.stl\")\n",
    "mesh.compute_triangle_normals()\n",
    "mesh.compute_vertex_normals()\n",
    "mesh.scale(0.001, center=mesh.get_center())\n",
    "mesh.translate(-mesh.get_center())\n",
    "\n",
    "V = np.asarray(mesh.vertices)\n",
    "T = np.asarray(mesh.triangles)\n",
    "N = np.asarray(mesh.triangle_normals)\n",
    "\n",
    "# Build edge -> triangle adjacency\n",
    "edge_to_tris = defaultdict(list)\n",
    "def ekey(a, b):\n",
    "    return (a, b) if a < b else (b, a)\n",
    "\n",
    "for ti, (a, b, c) in enumerate(T):\n",
    "    edge_to_tris[ekey(a,b)].append(ti)\n",
    "    edge_to_tris[ekey(b,c)].append(ti)\n",
    "    edge_to_tris[ekey(c,a)].append(ti)\n",
    "\n",
    "# Compute dihedral angles and collect \"sharp\" edges\n",
    "sharp_edges = []\n",
    "deg_thresh = 30.0\n",
    "cos_thresh = np.cos(np.deg2rad(180 - deg_thresh))  # compare angle between face normals\n",
    "\n",
    "for (i, j), tris in edge_to_tris.items():\n",
    "    if len(tris) != 2:\n",
    "        continue  # boundary/non-manifold: skip or keep as sharp\n",
    "    n1, n2 = N[tris[0]], N[tris[1]]\n",
    "    cosang = np.clip(np.dot(n1, n2), -1.0, 1.0)\n",
    "    angle = np.arccos(cosang)  # radians, 0 = coplanar, pi = folded\n",
    "    dihedral = np.pi - angle\n",
    "    if np.degrees(dihedral) > deg_thresh:\n",
    "        sharp_edges.append((i, j))\n",
    "\n",
    "# Vertices incident to many sharp edges -> corners\n",
    "sharp_count = np.zeros(len(V), dtype=int)\n",
    "for i, j in sharp_edges:\n",
    "    sharp_count[i] += 1\n",
    "    sharp_count[j] += 1\n",
    "\n",
    "corner_idx = np.where(sharp_count >= 3)[0]   # tune: 2 or 3 for hex bolt heads\n",
    "corner_pts = V[corner_idx]\n",
    "\n",
    "# Make a point cloud for visualization\n",
    "corner_pcd = o3d.geometry.PointCloud(o3d.utility.Vector3dVector(corner_pts))\n",
    "corner_pcd.paint_uniform_color([1, 0, 0])\n",
    "\n",
    "mesh.paint_uniform_color([0.7, 0.7, 0.7])\n",
    "o3d.visualization.draw_geometries([mesh, corner_pcd])\n",
    "print(f\"Detected corner vertices: {len(corner_pts)}\")\n"
   ]
  },
  {
   "cell_type": "code",
   "execution_count": 47,
   "id": "ea90c3a4",
   "metadata": {},
   "outputs": [],
   "source": [
    "# Combine sets, then deduplicate with voxel grid\n",
    "combined = o3d.geometry.PointCloud()\n",
    "combined += iss\n",
    "combined += o3d.geometry.PointCloud(o3d.utility.Vector3dVector(corner_pts))\n",
    "\n",
    "combined = combined.voxel_down_sample(voxel_size=2 * res)  # unify close points\n",
    "combined.paint_uniform_color([1, 0, 0])\n",
    "\n",
    "K3D = np.asarray(combined.points)   # final 3D keypoints"
   ]
  }
 ],
 "metadata": {
  "kernelspec": {
   "display_name": "base",
   "language": "python",
   "name": "python3"
  },
  "language_info": {
   "codemirror_mode": {
    "name": "ipython",
    "version": 3
   },
   "file_extension": ".py",
   "mimetype": "text/x-python",
   "name": "python",
   "nbconvert_exporter": "python",
   "pygments_lexer": "ipython3",
   "version": "3.11.5"
  }
 },
 "nbformat": 4,
 "nbformat_minor": 5
}
