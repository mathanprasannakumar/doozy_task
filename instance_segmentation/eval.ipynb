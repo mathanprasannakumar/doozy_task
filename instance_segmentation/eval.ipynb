{
 "cells": [
  {
   "cell_type": "code",
   "execution_count": 1,
   "id": "641138cd",
   "metadata": {},
   "outputs": [
    {
     "name": "stdout",
     "output_type": "stream",
     "text": [
      "Error reading from /home/mat/.config/Ultralytics/settings.json: \"No Ultralytics setting 'openvino_msg'. \\nView Ultralytics Settings with 'yolo settings' or at '/home/mat/.config/Ultralytics/settings.json'\\nUpdate Settings with 'yolo settings key=value', i.e. 'yolo settings runs_dir=path/to/dir'. For help see https://docs.ultralytics.com/quickstart/#ultralytics-settings.\"\n",
      "Creating new Ultralytics Settings v0.0.6 file ✅ \n",
      "View Ultralytics Settings with 'yolo settings' or at '/home/mat/.config/Ultralytics/settings.json'\n",
      "Update Settings with 'yolo settings key=value', i.e. 'yolo settings runs_dir=path/to/dir'. For help see https://docs.ultralytics.com/quickstart/#ultralytics-settings.\n"
     ]
    }
   ],
   "source": [
    "from ultralytics import YOLO\n",
    "import cv2"
   ]
  },
  {
   "cell_type": "code",
   "execution_count": 2,
   "id": "d22188ec",
   "metadata": {},
   "outputs": [],
   "source": [
    "model = YOLO(\"models/finetuned_yolov11seg_aug31.pt\")"
   ]
  },
  {
   "cell_type": "code",
   "execution_count": 3,
   "id": "8b1a0a8d",
   "metadata": {},
   "outputs": [
    {
     "name": "stdout",
     "output_type": "stream",
     "text": [
      "\n",
      "image 1/1 /home/mat/doozy_task/Bolt/dataset/rgb_0047.png: 384x640 1 bolt, 1 bolt_nut, 111.7ms\n",
      "Speed: 4.7ms preprocess, 111.7ms inference, 8.0ms postprocess per image at shape (1, 3, 384, 640)\n"
     ]
    }
   ],
   "source": [
    "result = model(\"/home/mat/doozy_task/Bolt/dataset/rgb_0047.png\")"
   ]
  },
  {
   "cell_type": "code",
   "execution_count": 4,
   "id": "ad2b37ee",
   "metadata": {},
   "outputs": [],
   "source": [
    "annotated_img = result[0].plot()"
   ]
  },
  {
   "cell_type": "code",
   "execution_count": 5,
   "id": "d1f94f71",
   "metadata": {},
   "outputs": [
    {
     "data": {
      "text/plain": [
       "True"
      ]
     },
     "execution_count": 5,
     "metadata": {},
     "output_type": "execute_result"
    }
   ],
   "source": [
    "cv2.imwrite(\"segmented_image.png\",annotated_img)"
   ]
  },
  {
   "cell_type": "code",
   "execution_count": null,
   "id": "1c60d3e6",
   "metadata": {},
   "outputs": [],
   "source": []
  }
 ],
 "metadata": {
  "kernelspec": {
   "display_name": "base",
   "language": "python",
   "name": "python3"
  },
  "language_info": {
   "codemirror_mode": {
    "name": "ipython",
    "version": 3
   },
   "file_extension": ".py",
   "mimetype": "text/x-python",
   "name": "python",
   "nbconvert_exporter": "python",
   "pygments_lexer": "ipython3",
   "version": "3.11.5"
  }
 },
 "nbformat": 4,
 "nbformat_minor": 5
}
